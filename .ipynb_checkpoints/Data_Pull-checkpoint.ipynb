{
 "cells": [
  {
   "cell_type": "code",
   "execution_count": 1,
   "metadata": {},
   "outputs": [],
   "source": [
    "import csv\n",
    "import urllib\n",
    "import pandas as pd\n",
    "import numpy as np\n",
    "import sys\n",
    "import datetime\n",
    "pd.core.common.is_list_like = pd.api.types.is_list_like\n",
    "from pandas_datareader import data as pdr\n",
    "from googlefinance.client import get_price_data, get_prices_data, get_prices_time_data\n",
    "import fix_yahoo_finance as yf\n",
    "import pyodbc \n",
    "import os"
   ]
  },
  {
   "cell_type": "code",
   "execution_count": 2,
   "metadata": {},
   "outputs": [],
   "source": [
    "yf.pdr_override()"
   ]
  },
  {
   "cell_type": "code",
   "execution_count": 7,
   "metadata": {},
   "outputs": [],
   "source": [
    "#Download lists of all companies in All US exchanges.  Catch Error if urls become outdated.  \n",
    "NASDAQ_url = 'http://www.nasdaq.com/screening/companies-by-industry.aspx?exchange=NASDAQ&render=download'\n",
    "NYSE_url = 'http://www.nasdaq.com/screening/companies-by-industry.aspx?exchange=NYSE&render=download'\n",
    "AMEX_url = 'http://www.nasdaq.com/screening/companies-by-industry.aspx?exchange=AMEX&render=download'\n",
    "try:\n",
    "    response = urllib.request.urlopen(NASDAQ_url)\n",
    "    NASDAQ_df = pd.read_csv(response)\n",
    "    \n",
    "    response = urllib.request.urlopen(NYSE_url)\n",
    "    NYSE_df = pd.read_csv(response)\n",
    "    \n",
    "    response = urllib.request.urlopen(AMEX_url)\n",
    "    AMEX_df = pd.read_csv(response)\n",
    "    \n",
    "    df=NASDAQ_df\n",
    "    df=df.append(NYSE_df)\n",
    "    df=df.append(AMEX_df)\n",
    "\n",
    "    df=df.drop_duplicates('Symbol')\n",
    "    df=df.set_index('Symbol')\n",
    "    df=df.sort_values(by=['MarketCap'],ascending=False)\n",
    "    \n",
    "    #Only want companies with positive market cap\n",
    "    df=df[df['MarketCap']>0]\n",
    "    \n",
    "except Exception:\n",
    "    print(\"Download Fail\")"
   ]
  },
  {
   "cell_type": "code",
   "execution_count": 4,
   "metadata": {
    "scrolled": false
   },
   "outputs": [],
   "source": [
    "end_date=today=datetime.datetime.now()\n",
    "start_date= '2000-01-01'\n",
    "directory='saved_data'\n",
    "#result=fill_history(start_date,end_date,df,directory,10)"
   ]
  },
  {
   "cell_type": "code",
   "execution_count": 45,
   "metadata": {},
   "outputs": [],
   "source": [
    "directory = r'C:\\Users\\Chris Atkeson\\Documents\\Market_Data\\saved_data'\n",
    "\n",
    "cnxn = pyodbc.connect(\"Driver={SQL Server Native Client 11.0};\"\n",
    "                      \"Server=localhost\\SQLEXPRESS;\"\n",
    "                      \"Database=Stock_Data;\"\n",
    "                      \"Trusted_Connection=yes;\")\n",
    "\n",
    "#write_to_sql(cnxn,directory)"
   ]
  },
  {
   "cell_type": "code",
   "execution_count": 8,
   "metadata": {},
   "outputs": [],
   "source": [
    "def fill_history(start_date,end_date,df,directory,num_runs):\n",
    "    \n",
    "    failed_downloads=[]\n",
    "    success_downloads=[]\n",
    "\n",
    "    for i,row in df.iterrows():\n",
    "        symbol=i\n",
    "        market_cap=row['MarketCap']\n",
    "        nasdaq_price=row['LastSale']\n",
    "        sector=row['Sector']\n",
    "    \n",
    "        if market_cap > 0:\n",
    "            try:\n",
    "                df_yahoo=pdr.get_data_yahoo(symbol,start_date,end_date)\n",
    "                df_yahoo['ticker']=symbol\n",
    "                df_yahoo=df_yahoo.set_index('Date')\n",
    "                df_yahoo.to_csv(directory + '\\\\' + symbol +'.csv')\n",
    "                success_downloads.append(symbol)\n",
    "            except Exception as e:\n",
    "                failed_downloads.append(symbol)\n",
    "    \n",
    "    for x in range (0,num_runs):\n",
    "        \n",
    "        failed_downloads=fill_hist_help(start_date,end_date,failed_downloads,directory)\n",
    "        \n",
    "    return (failed_downloads,success_downloads)\n",
    "            "
   ]
  },
  {
   "cell_type": "code",
   "execution_count": 9,
   "metadata": {},
   "outputs": [],
   "source": [
    "def fill_hist_help(start_date,end_date,symbols,directory):\n",
    "    failed_downloads=[]\n",
    "    for symbol in symbols:\n",
    "        try:\n",
    "            df_yahoo=pdr.get_data_yahoo(symbol,start_date,end_date)\n",
    "            df_yahoo['ticker']=symbol\n",
    "            df_yahoo=df_yahoo.set_index('Date')\n",
    "            df_yahoo.to_csv(directory + '\\\\' + symbol +'.csv')\n",
    "        except Exception as e:\n",
    "            failed_downloads.append(symbol)\n",
    "    return failed_downloads\n",
    "    "
   ]
  },
  {
   "cell_type": "code",
   "execution_count": 43,
   "metadata": {},
   "outputs": [],
   "source": [
    "def write_to_sql(cnxn,directory):\n",
    "    #count=1\n",
    "    cursor = cnxn.cursor()\n",
    "    SQL_string=r\"\"\"Truncate table [stock_Data].[dbo].[Hist_Data]\"\"\"\n",
    "    cursor.execute(SQL_string)\n",
    "    cursor.close()\n",
    "    \n",
    "    for filename in os.listdir(directory):\n",
    "        \n",
    "        #just for general progress tricking\n",
    "        #count+=1\n",
    "        #if count % 100 == 0:\n",
    "            #print(count)\n",
    "\n",
    "        if filename.endswith(\".csv\"): \n",
    "            try:\n",
    "                ticker=filename[:-4]\n",
    "                csv_path= \"saved_data\" + \"\\\\\" + filename\n",
    "                cursor = cnxn.cursor()\n",
    "    \n",
    "                SQL_string= (\"BULK INSERT [Stock_Data].[dbo].[Hist_Data] FROM '\"\"\" + \n",
    "                directory + \"\\\\\" + filename + \"\"\"' WITH \n",
    "                (FIRSTROW=2,FIELDTERMINATOR = ',',ROWTERMINATOR = '\\\\n')\"\"\")\n",
    "                \n",
    "                cursor.execute(SQL_string)\n",
    "                cnxn.commit()\n",
    "                cursor.close()\n",
    "            \n",
    "            except Exception:\n",
    "                print(filename[:-4])\n",
    "                cursor.close()\n",
    "            continue\n",
    "        else:\n",
    "            continue\n",
    "    cnxn.close()"
   ]
  },
  {
   "cell_type": "code",
   "execution_count": 17,
   "metadata": {},
   "outputs": [],
   "source": [
    "#times out instead of throwing error.  Will examine more later if needed.  \n",
    "df_morningstar=pdr.DataReader('AAPL','morningstar',start_date,end_date)"
   ]
  },
  {
   "cell_type": "code",
   "execution_count": 12,
   "metadata": {},
   "outputs": [],
   "source": [
    "#annoying ticker requirement.  Willl examine more later if needed.  \n",
    "param = {\n",
    "    'q': \"TURN\", # Stock symbol (ex: \"AAPL\")\n",
    "    'i': \"86400\", # Interval size in seconds (\"86400\" = 1 day intervals)\n",
    "    'x': \"NASD\", # Stock exchange symbol on which stock is traded (ex: \"NASD\")\n",
    "    'p': \"1Y\" # Period (Ex: \"1Y\" = 1 year)\n",
    "}\n",
    "# get price data (return pandas dataframe)\n",
    "df_google = get_price_data(param)\n",
    "\n",
    "\n"
   ]
  },
  {
   "cell_type": "code",
   "execution_count": 55,
   "metadata": {},
   "outputs": [],
   "source": []
  },
  {
   "cell_type": "code",
   "execution_count": 25,
   "metadata": {},
   "outputs": [],
   "source": []
  },
  {
   "cell_type": "code",
   "execution_count": 82,
   "metadata": {},
   "outputs": [],
   "source": []
  },
  {
   "cell_type": "code",
   "execution_count": 2,
   "metadata": {},
   "outputs": [],
   "source": []
  },
  {
   "cell_type": "code",
   "execution_count": null,
   "metadata": {
    "scrolled": true
   },
   "outputs": [],
   "source": []
  },
  {
   "cell_type": "code",
   "execution_count": null,
   "metadata": {
    "scrolled": false
   },
   "outputs": [],
   "source": []
  },
  {
   "cell_type": "code",
   "execution_count": null,
   "metadata": {},
   "outputs": [],
   "source": []
  },
  {
   "cell_type": "code",
   "execution_count": null,
   "metadata": {},
   "outputs": [],
   "source": []
  },
  {
   "cell_type": "code",
   "execution_count": null,
   "metadata": {},
   "outputs": [],
   "source": []
  },
  {
   "cell_type": "code",
   "execution_count": null,
   "metadata": {},
   "outputs": [],
   "source": []
  },
  {
   "cell_type": "code",
   "execution_count": null,
   "metadata": {},
   "outputs": [],
   "source": []
  }
 ],
 "metadata": {
  "kernelspec": {
   "display_name": "Python 3",
   "language": "python",
   "name": "python3"
  },
  "language_info": {
   "codemirror_mode": {
    "name": "ipython",
    "version": 3
   },
   "file_extension": ".py",
   "mimetype": "text/x-python",
   "name": "python",
   "nbconvert_exporter": "python",
   "pygments_lexer": "ipython3",
   "version": "3.6.5"
  }
 },
 "nbformat": 4,
 "nbformat_minor": 2
}
